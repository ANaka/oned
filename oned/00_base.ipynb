{
 "cells": [
  {
   "cell_type": "code",
   "execution_count": null,
   "metadata": {},
   "outputs": [],
   "source": [
    "# default_exp base"
   ]
  },
  {
   "cell_type": "markdown",
   "metadata": {},
   "source": [
    "# oned\n",
    "\n",
    "> API details."
   ]
  },
  {
   "cell_type": "code",
   "execution_count": null,
   "metadata": {},
   "outputs": [],
   "source": [
    "# hide\n",
    "from nbdev.showdoc import *"
   ]
  },
  {
   "cell_type": "code",
   "execution_count": null,
   "metadata": {},
   "outputs": [],
   "source": [
    "# export\n",
    "import bezier\n",
    "import numpy as np\n",
    "import shapely.geometry as shg\n",
    "import shapely.affinity as sha\n",
    "import shapely.ops as sho\n",
    "from shapely.geometry import box, MultiLineString, Point, MultiPoint, Polygon, MultiPolygon, LineString\n",
    "from shapely.affinity import rotate, translate, scale\n",
    "from shapely.ops import split, triangulate\n",
    "from shapely import speedups\n",
    "\n",
    "import vsketch"
   ]
  },
  {
   "cell_type": "code",
   "execution_count": null,
   "metadata": {},
   "outputs": [],
   "source": [
    "#export\n",
    "class DistanceConverter(object):\n",
    "    \n",
    "    def __init__(self, d, unit):\n",
    "        setattr(self, unit, d)\n",
    "    \n",
    "    @property\n",
    "    def inches(self):\n",
    "        return self._inches\n",
    "    \n",
    "    @inches.setter\n",
    "    def inches(self, inches):\n",
    "        self._inches = inches\n",
    "        self._mm = 25.4 * inches\n",
    "    \n",
    "    @property\n",
    "    def mm(self):\n",
    "        return self._mm\n",
    "    \n",
    "    @mm.setter\n",
    "    def mm(self, d):\n",
    "        self._mm = d\n",
    "        self._inches = d / 25.4\n",
    "        "
   ]
  },
  {
   "cell_type": "code",
   "execution_count": null,
   "metadata": {},
   "outputs": [],
   "source": [
    "#export\n",
    "def hatchbox(rect, angle, spacing):\n",
    "    \"\"\"\n",
    "    returns a Shapely geometry (MULTILINESTRING, or more rarely,\n",
    "    GEOMETRYCOLLECTION) for a simple hatched rectangle.\n",
    "\n",
    "    args:\n",
    "    rect - a Shapely geometry for the outer boundary of the hatch\n",
    "           Likely most useful if it really is a rectangle\n",
    "\n",
    "    angle - angle of hatch lines, conventional anticlockwise -ve\n",
    "\n",
    "    spacing - spacing between hatch lines\n",
    "\n",
    "    GEOMETRYCOLLECTION case occurs when a hatch line intersects with\n",
    "    the corner of the clipping rectangle, which produces a point\n",
    "    along with the usual lines.\n",
    "    \"\"\"\n",
    "\n",
    "    (llx, lly, urx, ury) = rect.bounds\n",
    "    centre_x = (urx + llx) / 2\n",
    "    centre_y = (ury + lly) / 2\n",
    "    diagonal_length = ((urx - llx) ** 2 + (ury - lly) ** 2) ** 0.5\n",
    "    number_of_lines = 2 + int(diagonal_length / spacing)\n",
    "    hatch_length = spacing * (number_of_lines - 1)\n",
    "\n",
    "    # build a square (of side hatch_length) horizontal lines\n",
    "    # centred on centroid of the bounding box, 'spacing' units apart\n",
    "    coords = []\n",
    "    for i in range(number_of_lines):\n",
    "        # alternate lines l2r and r2l to keep HP-7470A plotter happy ☺\n",
    "        if i % 2:\n",
    "            coords.extend([((centre_x - hatch_length / 2, centre_y\n",
    "                          - hatch_length / 2 + i * spacing), (centre_x\n",
    "                          + hatch_length / 2, centre_y - hatch_length\n",
    "                          / 2 + i * spacing))])\n",
    "        else:\n",
    "            coords.extend([((centre_x + hatch_length / 2, centre_y\n",
    "                          - hatch_length / 2 + i * spacing), (centre_x\n",
    "                          - hatch_length / 2, centre_y - hatch_length\n",
    "                          / 2 + i * spacing))])\n",
    "    # turn array into Shapely object\n",
    "    lines = MultiLineString(coords)\n",
    "    # Rotate by angle around box centre\n",
    "    lines = rotate(lines, angle, origin='centroid', use_radians=False)\n",
    "    # return clipped array\n",
    "    return rect.intersection(lines)"
   ]
  },
  {
   "cell_type": "code",
   "execution_count": null,
   "metadata": {},
   "outputs": [],
   "source": [
    "#export\n",
    "def merge_MultiLineStrings(mls_list):\n",
    "    merged_mls = []\n",
    "    for mls in mls_list:\n",
    "        if mls.type == 'MultiLineString':\n",
    "            merged_mls += list(mls)\n",
    "        elif mls.type == 'LineString':\n",
    "            merged_mls.append(mls)\n",
    "    return MultiLineString(merged_mls)"
   ]
  },
  {
   "cell_type": "code",
   "execution_count": null,
   "metadata": {},
   "outputs": [],
   "source": [
    "#export\n",
    "def morsify(ls, buffer_factor=0.01):\n",
    "    return ls.buffer(buffer_factor).buffer(-buffer_factor).boundary"
   ]
  },
  {
   "cell_type": "code",
   "execution_count": null,
   "metadata": {},
   "outputs": [],
   "source": [
    "#export\n",
    "def add_jittered_midpoints(ls, n_midpoints, xstd, ystd, xbias=0, ybias=0):\n",
    "    eval_range = np.linspace(0., 1., n_midpoints+2)\n",
    "    pts = np.stack([ls.interpolate(t, normalized=True) for t in eval_range])\n",
    "    x_jitter = np.random.randn(n_midpoints, 1) * xstd + xbias\n",
    "    y_jitter = np.random.randn(n_midpoints, 1) * ystd + ybias\n",
    "    pts[1:-1] += np.concatenate([x_jitter, y_jitter], axis=1)\n",
    "    return shg.asLineString(pts)"
   ]
  },
  {
   "cell_type": "code",
   "execution_count": null,
   "metadata": {},
   "outputs": [],
   "source": [
    "#export\n",
    "def LineString_to_jittered_bezier(ls, n_midpoints=1, xbias=0., xstd=0., ybias=0., ystd=0., normalized=True, n_eval_points=50):\n",
    "    if normalized==True:\n",
    "        xbias = xbias * ls.length\n",
    "        xstd = xstd * ls.length\n",
    "        ybias = ybias * ls.length\n",
    "        ystd = ystd*ls.length\n",
    "        \n",
    "    jitter_ls = add_jittered_midpoints(ls, n_midpoints=n_midpoints, xbias=xbias, xstd=xstd, ybias=ybias, ystd=ystd,)\n",
    "    curve1 = bezier.Curve(np.asfortranarray(jitter_ls).T, degree=n_midpoints+1)\n",
    "    bez = curve1.evaluate_multi(np.linspace(0., 1., n_eval_points))\n",
    "    return shg.asLineString(bez.T)"
   ]
  },
  {
   "cell_type": "code",
   "execution_count": null,
   "metadata": {},
   "outputs": [],
   "source": [
    "#export\n",
    "def get_random_points_in_polygon(polygon, n_points=1, xgen=None, ygen=None):\n",
    "    points = []\n",
    "    minx, miny, maxx, maxy = polygon.bounds\n",
    "    if xgen == None:\n",
    "        xgen = lambda size=None: np.random.uniform(minx, maxx, size)\n",
    "    if ygen == None:\n",
    "        ygen = lambda size=None: np.random.uniform(miny, maxy, size)\n",
    "    \n",
    "    for i in range(n_points):\n",
    "        point = Point((xgen(), ygen()))\n",
    "        if polygon.contains(point):\n",
    "            points.append(point)\n",
    "    return points"
   ]
  },
  {
   "cell_type": "code",
   "execution_count": null,
   "metadata": {},
   "outputs": [
    {
     "name": "stdout",
     "output_type": "stream",
     "text": [
      "Converted 00_base.ipynb.\n"
     ]
    }
   ],
   "source": [
    "from nbdev.export import *\n",
    "notebook2script()"
   ]
  },
  {
   "cell_type": "code",
   "execution_count": null,
   "metadata": {},
   "outputs": [],
   "source": []
  }
 ],
 "metadata": {
  "kernelspec": {
   "display_name": "Python [conda env:oned] *",
   "language": "python",
   "name": "conda-env-oned-py"
  }
 },
 "nbformat": 4,
 "nbformat_minor": 4
}
